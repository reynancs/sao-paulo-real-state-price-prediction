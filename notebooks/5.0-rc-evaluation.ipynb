{
 "cells": [
  {
   "cell_type": "markdown",
   "metadata": {},
   "source": [
    "## 5. Evaluation\n",
    "📒 `5.0-rc-evaluation.ipynb`\n",
    "- Análise de erros\n",
    "- Interpretação dos resultados\n",
    "- Comparação entre modelos\n",
    "- Explicabilidade: SHAP, feature importance\n",
    "\n"
   ]
  }
 ],
 "metadata": {
  "language_info": {
   "name": "python"
  }
 },
 "nbformat": 4,
 "nbformat_minor": 2
}
