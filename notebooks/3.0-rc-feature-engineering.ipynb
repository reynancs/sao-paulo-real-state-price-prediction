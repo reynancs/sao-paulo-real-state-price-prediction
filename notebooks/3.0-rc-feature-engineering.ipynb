{
 "cells": [
  {
   "cell_type": "markdown",
   "metadata": {},
   "source": [
    "## 3. Feature Engineering\n",
    "📒 `3.0-rc-feature-engineering.ipynb`\n",
    "- Criação de novas features (ex: `preço/m²`, `custo por cômodo`)\n",
    "- Salvamento do dataset enriquecimento (`data/processed/`)\n",
    "- Encoding de variáveis categóricas\n",
    "- Feature selection (correlação, chi2, importância via modelo)\n",
    "- Exportação dos datasets finalizados (`X_train`, `X_test`)\n",
    "\n"
   ]
  }
 ],
 "metadata": {
  "language_info": {
   "name": "python"
  }
 },
 "nbformat": 4,
 "nbformat_minor": 2
}
