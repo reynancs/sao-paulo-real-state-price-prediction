{
 "cells": [
  {
   "cell_type": "markdown",
   "metadata": {},
   "source": [
    "## 6. Deployment / Application\n",
    "📒 `6.0-rc-deployment-preview.ipynb`\n",
    "- Pipeline final do modelo com `Pipeline()` do `sklearn`\n",
    "- Exportação com `joblib` ou `pickle`\n",
    "- Simulação de API / Exemplo de uso em produção `FastAPI`"
   ]
  }
 ],
 "metadata": {
  "language_info": {
   "name": "python"
  }
 },
 "nbformat": 4,
 "nbformat_minor": 2
}
