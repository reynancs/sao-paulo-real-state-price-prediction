{
 "cells": [
  {
   "cell_type": "markdown",
   "metadata": {},
   "source": [
    "## 3. Data Preparation\n",
    "📒 `2.0-rc-data-preparation.ipynb`\n",
    "- Limpeza de dados (valores nulos, inconsistentes)\n",
    "- Conversão dos tipos de dados\n",
    "- Encoding de variáveis categóricas (como tipo de imóvel)\n",
    "- Normalização/padronização de variáveis numéricas\n",
    "- Salvamento do dataset limpo (`data/processed/`)\n",
    "\n"
   ]
  }
 ],
 "metadata": {
  "language_info": {
   "name": "python"
  }
 },
 "nbformat": 4,
 "nbformat_minor": 2
}
