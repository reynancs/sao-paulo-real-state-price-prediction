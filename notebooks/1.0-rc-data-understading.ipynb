{
 "cells": [
  {
   "cell_type": "markdown",
   "metadata": {},
   "source": [
    "## 2. Data Understanding\n",
    "📒 `1.0-rc-data-understanding.ipynb`\n",
    "- Carregamento do dataset bruto\n",
    "- Visão geral do schema (colunas, tipos, valores únicos)\n",
    "- Valores ausentes, outliers\n",
    "- Distribuição dos Dados\n",
    "- Correlações entre features e target (price)\n",
    "- Gráficos iniciais: histogramas, boxplots, heatmaps"
   ]
  },
  {
   "cell_type": "markdown",
   "metadata": {},
   "source": [
    "### 📘 Data Dictionary – Car Price Prediction Dataset\n",
    "\n",
    "**About Dataset**\n",
    "This dataset contains around 13.000 apartments for sale and for rent in the city of São Paulo, Brazil. The data comes from multiple sources, specially real estate classified websites.\n",
    "\n",
    "\n",
    "This data dictionary provides a structured description of the variables used in the car price prediction dataset.\n",
    "\n",
    "|   id | Variable Name      | Role    | Type         | Descrição                                                 |\n",
    "|------|--------------------| --------| -------------|-----------------------------------------------------------|\n",
    "|   00 | Price              | Target  | Numérica     | Valor mensal do aluguel do imóvel (em R$)                 |\n",
    "|   01 | Condo              | Feature | Numérica     | Valor da taxa de condomínio (em R$)                       |\n",
    "|   02 | Size               | Feature | Numérica     | Área útil do imóvel em metros quadrados                   |\n",
    "|   03 | Rooms              | Feature | Numérica     | Número de cômodos                                         |\n",
    "|   04 | Toilets            | Feature | Numérica     | Número de banheiros                                       |\n",
    "|   05 | Suites             | Feature | Numérica     | Número de suítes                                          |\n",
    "|   06 | Parking            | Feature | Numérica     | Número de vagas de garagem                                |\n",
    "|   07 | Elevator           | Feature | Binária      | 1 se possui elevador, 0 caso contrário                    |\n",
    "|   08 | Furnished          | Feature | Binária      | 1 se o imóvel é mobiliado, 0 caso contrário               |\n",
    "|   09 | Swimming Pool      | Feature | Binária      | 1 se possui piscina, 0 caso contrário                     |\n",
    "|   10 | New                | Feature | Binária      | 1 se o imóvel é novo, 0 caso contrário                    |\n",
    "|   11 | District           | Feature | Categórica   | Nome do bairro e cidade onde o imóvel está localizado     |\n",
    "|   12 | Negotiation Type   | Feature | Categórica   | Tipo de negociação (ex: aluguel ou venda)                 |\n",
    "|   13 | Property Type      | Feature | Categórica   | Tipo de imóvel (ex: apartamento, casa)                    |\n",
    "|   14 | Latitude           | Feature | Numérica     | Latitude geográfica do imóvel                             |\n",
    "|   15 | Longitude          | Feature | Numérica     | Longitude geográfica do imóvel                            |\n",
    "\n",
    "---"
   ]
  },
  {
   "cell_type": "code",
   "execution_count": 6,
   "metadata": {},
   "outputs": [],
   "source": [
    "import sys\n",
    "import os\n",
    "import pandas as pd\n",
    "#from _utils import carregar_dados\n",
    "\n",
    "# Adiciona o caminho da pasta src ao sys.path\n",
    "sys.path.append(os.path.abspath('../src'))\n",
    "\n",
    "path_file = \"../data/raw/olx_used_cars.csv\"\n",
    "df = pd.read_csv(path_file)\n",
    "head5 = df.head()"
   ]
  },
  {
   "cell_type": "code",
   "execution_count": 9,
   "metadata": {},
   "outputs": [],
   "source": [
    "head5.to_csv(\"used_cars.csv\")"
   ]
  },
  {
   "cell_type": "code",
   "execution_count": null,
   "metadata": {},
   "outputs": [],
   "source": []
  }
 ],
 "metadata": {
  "kernelspec": {
   "display_name": ".venv",
   "language": "python",
   "name": "python3"
  },
  "language_info": {
   "codemirror_mode": {
    "name": "ipython",
    "version": 3
   },
   "file_extension": ".py",
   "mimetype": "text/x-python",
   "name": "python",
   "nbconvert_exporter": "python",
   "pygments_lexer": "ipython3",
   "version": "3.11.11"
  }
 },
 "nbformat": 4,
 "nbformat_minor": 2
}
