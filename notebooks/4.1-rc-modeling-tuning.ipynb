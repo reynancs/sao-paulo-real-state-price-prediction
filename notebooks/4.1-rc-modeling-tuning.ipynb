{
 "cells": [
  {
   "cell_type": "markdown",
   "metadata": {},
   "source": [
    "## 4. Modeling Tuning\n",
    "📒 `4.1-rc-modeling-tuning.ipynb`\n",
    "- Modelos mais robustos: Random Forest, XGBoost, etc.\n",
    "- Hiperparâmetros (GridSearch, RandomSearch)\n",
    "- Cross-validation\n",
    "\n"
   ]
  }
 ],
 "metadata": {
  "language_info": {
   "name": "python"
  }
 },
 "nbformat": 4,
 "nbformat_minor": 2
}
