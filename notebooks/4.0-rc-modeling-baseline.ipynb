{
 "cells": [
  {
   "cell_type": "markdown",
   "metadata": {},
   "source": [
    "## 4. Modeling\n",
    "📒 `4.0-rc-modeling-baseline.ipynb`\n",
    "- Modelos simples como baseline: Linear Regression, Decision Tree;\n",
    "- Métricas básicas (MAE, RMSE, R²)\n",
    "\n"
   ]
  }
 ],
 "metadata": {
  "language_info": {
   "name": "python"
  }
 },
 "nbformat": 4,
 "nbformat_minor": 2
}
